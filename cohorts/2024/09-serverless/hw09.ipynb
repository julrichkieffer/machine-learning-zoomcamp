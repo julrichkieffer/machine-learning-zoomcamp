{
 "cells": [
  {
   "cell_type": "markdown",
   "metadata": {},
   "source": [
    "\n",
    "## Imports"
   ]
  },
  {
   "cell_type": "code",
   "execution_count": null,
   "metadata": {},
   "outputs": [],
   "source": [
    "from PIL import Image\n",
    "\n",
    "import tensorflow as tf\n",
    "from tensorflow import keras\n",
    "from tensorflow.keras.preprocessing.image import ImageDataGenerator, load_img"
   ]
  },
  {
   "cell_type": "code",
   "execution_count": null,
   "metadata": {},
   "outputs": [],
   "source": [
    "tf.__version__"
   ]
  },
  {
   "cell_type": "markdown",
   "metadata": {},
   "source": [
    "## Convert model"
   ]
  },
  {
   "cell_type": "code",
   "execution_count": null,
   "metadata": {},
   "outputs": [],
   "source": [
    "keras_model = keras.models.load_model('./models/model_2024_hairstyle.keras')"
   ]
  },
  {
   "cell_type": "code",
   "execution_count": null,
   "metadata": {},
   "outputs": [],
   "source": [
    "keras_model.summary()"
   ]
  },
  {
   "cell_type": "code",
   "execution_count": null,
   "metadata": {},
   "outputs": [],
   "source": [
    "converter = tf.lite.TFLiteConverter.from_keras_model(model=keras_model)\n",
    "\n",
    "tflite_model_path = './models/model_2024_hairstyle.tflite'\n",
    "tflite_model = converter.convert()\n",
    "\n",
    "with open(tflite_model_path, 'wb') as f_out:\n",
    "    f_out.write(tflite_model)"
   ]
  },
  {
   "cell_type": "markdown",
   "metadata": {},
   "source": [
    "## Map input and outputs"
   ]
  },
  {
   "cell_type": "code",
   "execution_count": null,
   "metadata": {},
   "outputs": [],
   "source": [
    "interpreter = tf.lite.Interpreter(model_path=tflite_model_path)\n",
    "interpreter.allocate_tensors()"
   ]
  },
  {
   "cell_type": "code",
   "execution_count": null,
   "metadata": {},
   "outputs": [],
   "source": [
    "interpreter.get_input_details()"
   ]
  },
  {
   "cell_type": "code",
   "execution_count": null,
   "metadata": {},
   "outputs": [],
   "source": [
    "input_index = interpreter.get_input_details()[0]['index']\n",
    "input_index"
   ]
  },
  {
   "cell_type": "code",
   "execution_count": null,
   "metadata": {},
   "outputs": [],
   "source": [
    "interpreter.get_output_details()"
   ]
  },
  {
   "cell_type": "code",
   "execution_count": null,
   "metadata": {},
   "outputs": [],
   "source": [
    "output_index = interpreter.get_output_details()[0]['index']\n",
    "output_index"
   ]
  },
  {
   "cell_type": "markdown",
   "metadata": {},
   "source": [
    "## Testing the Keras model"
   ]
  },
  {
   "cell_type": "code",
   "execution_count": null,
   "metadata": {},
   "outputs": [],
   "source": [
    "_ = keras_model.input_shape[1]\n",
    "target_size = (_, _)\n",
    "target_size"
   ]
  },
  {
   "cell_type": "code",
   "execution_count": null,
   "metadata": {},
   "outputs": [],
   "source": [
    "test_img = load_img('./models/yf_dokzqy3vcritme8ggnzqlvwa.jpeg', target_size=target_size)\n",
    "# test_img = ImageDataGenerator(\n",
    "#                 rescale = 1./255\n",
    "#               ).flow_from_directory('./models/', \n",
    "#                                     target_size = target_size, \n",
    "#                                     batch_size  = 42,\n",
    "#                                    )\n",
    "test_img"
   ]
  },
  {
   "cell_type": "code",
   "execution_count": null,
   "metadata": {},
   "outputs": [],
   "source": [
    "import numpy as np\n",
    "\n",
    "x = np.array(test_img)\n",
    "X = np.array([x])\n",
    "\n",
    "# X = preprocess_input(X)\n",
    "X.shape"
   ]
  },
  {
   "cell_type": "code",
   "execution_count": null,
   "metadata": {},
   "outputs": [],
   "source": [
    "classes = ['placeholder']\n",
    "\n",
    "pred_y = keras_model.predict(X)\n",
    "float_preds = pred_y.tolist()\n",
    "\n",
    "dict(zip(classes, float_preds[0]))"
   ]
  },
  {
   "cell_type": "markdown",
   "metadata": {},
   "source": [
    "## Testing the TFLite Model"
   ]
  },
  {
   "cell_type": "code",
   "execution_count": 1,
   "metadata": {},
   "outputs": [],
   "source": [
    "from PIL import Image\n",
    "import numpy as np\n",
    "import tensorflow as tf"
   ]
  },
  {
   "cell_type": "code",
   "execution_count": 2,
   "metadata": {},
   "outputs": [],
   "source": [
    "from io import BytesIO\n",
    "from urllib import request\n",
    "\n",
    "from PIL import Image\n",
    "\n",
    "def download_image(url:str):\n",
    "    with request.urlopen(url) as resp:\n",
    "        buffer = resp.read()\n",
    "    stream = BytesIO(buffer)\n",
    "    img = Image.open(stream)\n",
    "    return img\n",
    "\n",
    "\n",
    "def prepare_image(img, target_size):\n",
    "    if img.mode != 'RGB':\n",
    "        img = img.convert('RGB')\n",
    "    img = img.resize(target_size) #, Resampling.NEAREST)\n",
    "    return img"
   ]
  },
  {
   "cell_type": "code",
   "execution_count": 3,
   "metadata": {},
   "outputs": [],
   "source": [
    "tflite_model_path = './models/model_2024_hairstyle.tflite'"
   ]
  },
  {
   "cell_type": "code",
   "execution_count": 4,
   "metadata": {},
   "outputs": [],
   "source": [
    "interpreter = tf.lite.Interpreter( model_path = tflite_model_path )\n",
    "interpreter.allocate_tensors()"
   ]
  },
  {
   "cell_type": "code",
   "execution_count": 5,
   "metadata": {},
   "outputs": [
    {
     "data": {
      "text/plain": [
       "0"
      ]
     },
     "execution_count": 5,
     "metadata": {},
     "output_type": "execute_result"
    }
   ],
   "source": [
    "input_index = interpreter.get_input_details()[0]['index']\n",
    "input_index"
   ]
  },
  {
   "cell_type": "code",
   "execution_count": 6,
   "metadata": {},
   "outputs": [
    {
     "data": {
      "text/plain": [
       "13"
      ]
     },
     "execution_count": 6,
     "metadata": {},
     "output_type": "execute_result"
    }
   ],
   "source": [
    "output_index = interpreter.get_output_details()[0]['index']\n",
    "output_index"
   ]
  },
  {
   "cell_type": "code",
   "execution_count": 7,
   "metadata": {},
   "outputs": [
    {
     "data": {
      "text/plain": [
       "(200, 200)"
      ]
     },
     "execution_count": 7,
     "metadata": {},
     "output_type": "execute_result"
    }
   ],
   "source": [
    "_ = int(interpreter.get_input_details()[0]['shape_signature'][1])\n",
    "target_size = (_, _)\n",
    "target_size"
   ]
  },
  {
   "cell_type": "code",
   "execution_count": 14,
   "metadata": {},
   "outputs": [
    {
     "data": {
      "image/jpeg": "[encoded data removed]",
      "image/png": "[encoded data removed]",
      "text/plain": [
       "<PIL.Image.Image image mode=RGB size=200x200>"
      ]
     },
     "execution_count": 14,
     "metadata": {},
     "output_type": "execute_result"
    }
   ],
   "source": [
    "test_img = download_image('https://habrastorage.org/webt/yf/_d/ok/yf_dokzqy3vcritme8ggnzqlvwa.jpeg')\n",
    "test_img = prepare_image(test_img, target_size=target_size)\n",
    "test_img"
   ]
  },
  {
   "cell_type": "code",
   "execution_count": 21,
   "metadata": {},
   "outputs": [],
   "source": [
    "def preprocess_image(img):\n",
    "    x = np.array(img, dtype='float32')\n",
    "    \n",
    "    X = np.array([x])\n",
    "    \n",
    "    X *= 1./255\n",
    "    \n",
    "    # X /= 127.5\n",
    "    # X -= 1.\n",
    "    return X"
   ]
  },
  {
   "cell_type": "code",
   "execution_count": 22,
   "metadata": {},
   "outputs": [
    {
     "data": {
      "text/plain": [
       "(1, 200, 200, 3)"
      ]
     },
     "execution_count": 22,
     "metadata": {},
     "output_type": "execute_result"
    }
   ],
   "source": [
    "X = preprocess_image(test_img)\n",
    "\n",
    "X.shape"
   ]
  },
  {
   "cell_type": "code",
   "execution_count": 23,
   "metadata": {},
   "outputs": [
    {
     "data": {
      "text/plain": [
       "{'placeholder': 0.9130955934524536}"
      ]
     },
     "execution_count": 23,
     "metadata": {},
     "output_type": "execute_result"
    }
   ],
   "source": [
    "classes = ['placeholder']\n",
    "\n",
    "interpreter.set_tensor(input_index, X)\n",
    "\n",
    "interpreter.invoke()\n",
    "\n",
    "pred_y = interpreter.get_tensor(output_index)\n",
    "float_preds = pred_y.tolist()\n",
    "\n",
    "dict(zip(classes, float_preds[0]))"
   ]
  },
  {
   "cell_type": "markdown",
   "metadata": {},
   "source": [
    "## Answers"
   ]
  },
  {
   "cell_type": "code",
   "execution_count": null,
   "metadata": {},
   "outputs": [],
   "source": [
    "!dir models"
   ]
  },
  {
   "cell_type": "markdown",
   "metadata": {},
   "source": [
    "\n",
    "### Question 1\n",
    "\n",
    "Now convert this model from Keras to TF-Lite format.\n",
    "\n",
    "What's the size of the **converted** model?\n",
    "\n",
    "* 27 Mb\n",
    "* 43 Mb\n",
    "* 77 Mb  `<--`\n",
    "* 127 Mb"
   ]
  },
  {
   "cell_type": "code",
   "execution_count": null,
   "metadata": {},
   "outputs": [],
   "source": [
    "output_index"
   ]
  },
  {
   "cell_type": "markdown",
   "metadata": {},
   "source": [
    "### Question 2\n",
    "\n",
    "To be able to use this model, we need to know the index of the input and \n",
    "the index of the output. \n",
    "\n",
    "What's the output index for this model?\n",
    "\n",
    "* 3\n",
    "* 7\n",
    "* 13 `<--`\n",
    "* 24"
   ]
  },
  {
   "cell_type": "code",
   "execution_count": 24,
   "metadata": {},
   "outputs": [
    {
     "data": {
      "text/plain": [
       "array([[[[0.24313727, 0.41176474, 0.09019608],\n",
       "         [0.2392157 , 0.4156863 , 0.09803922],\n",
       "         [0.24313727, 0.427451  , 0.11764707],\n",
       "         ...,\n",
       "         [0.24705884, 0.34901962, 0.00392157],\n",
       "         [0.227451  , 0.3372549 , 0.00784314],\n",
       "         [0.21568629, 0.32156864, 0.00784314]],\n",
       "\n",
       "        [[0.2509804 , 0.41960788, 0.10980393],\n",
       "         [0.25490198, 0.41960788, 0.11764707],\n",
       "         [0.2627451 , 0.427451  , 0.13333334],\n",
       "         ...,\n",
       "         [0.25490198, 0.34509805, 0.00784314],\n",
       "         [0.23529413, 0.32941177, 0.01176471],\n",
       "         [0.21568629, 0.31764707, 0.01568628]],\n",
       "\n",
       "        [[0.25882354, 0.43137258, 0.1254902 ],\n",
       "         [0.2627451 , 0.427451  , 0.12941177],\n",
       "         [0.2784314 , 0.43529415, 0.14117648],\n",
       "         ...,\n",
       "         [0.2509804 , 0.34509805, 0.02745098],\n",
       "         [0.23529413, 0.3254902 , 0.02352941],\n",
       "         [0.21176472, 0.3137255 , 0.01176471]],\n",
       "\n",
       "        ...,\n",
       "\n",
       "        [[0.10196079, 0.19607845, 0.03921569],\n",
       "         [0.1137255 , 0.21176472, 0.0509804 ],\n",
       "         [0.12941177, 0.23137257, 0.0509804 ],\n",
       "         ...,\n",
       "         [0.8705883 , 0.9058824 , 0.90196085],\n",
       "         [0.86666673, 0.90196085, 0.8980393 ],\n",
       "         [0.87843144, 0.91372555, 0.909804  ]],\n",
       "\n",
       "        [[0.10196079, 0.19215688, 0.03921569],\n",
       "         [0.10588236, 0.20784315, 0.03921569],\n",
       "         [0.1254902 , 0.22352943, 0.04313726],\n",
       "         ...,\n",
       "         [0.87843144, 0.909804  , 0.9058824 ],\n",
       "         [0.8705883 , 0.909804  , 0.9058824 ],\n",
       "         [0.8745099 , 0.92549026, 0.9176471 ]],\n",
       "\n",
       "        [[0.10196079, 0.18039216, 0.03529412],\n",
       "         [0.09803922, 0.19215688, 0.03529412],\n",
       "         [0.10980393, 0.20784315, 0.04705883],\n",
       "         ...,\n",
       "         [0.8705883 , 0.909804  , 0.9058824 ],\n",
       "         [0.882353  , 0.9215687 , 0.9176471 ],\n",
       "         [0.882353  , 0.9294118 , 0.9215687 ]]]], dtype=float32)"
      ]
     },
     "execution_count": 24,
     "metadata": {},
     "output_type": "execute_result"
    }
   ],
   "source": [
    "X"
   ]
  },
  {
   "cell_type": "markdown",
   "metadata": {},
   "source": [
    "### Question 3\n",
    "\n",
    "\n",
    "After the pre-processing, what's the value in the first pixel, the R channel?\n",
    "\n",
    "* 0.24  `<--`\n",
    "* 0.44\n",
    "* 0.64\n",
    "* 0.84"
   ]
  },
  {
   "cell_type": "code",
   "execution_count": 25,
   "metadata": {},
   "outputs": [
    {
     "data": {
      "text/plain": [
       "{'placeholder': 0.9130955934524536}"
      ]
     },
     "execution_count": 25,
     "metadata": {},
     "output_type": "execute_result"
    }
   ],
   "source": [
    "dict(zip(classes, float_preds[0]))"
   ]
  },
  {
   "cell_type": "markdown",
   "metadata": {},
   "source": [
    "### Question 4\n",
    "\n",
    "Now let's apply this model to this image. What's the output of the model?\n",
    "\n",
    "* 0.293\n",
    "* 0.493\n",
    "* 0.693\n",
    "* 0.893  `<--`"
   ]
  },
  {
   "cell_type": "code",
   "execution_count": 26,
   "metadata": {},
   "outputs": [
    {
     "name": "stdout",
     "output_type": "stream",
     "text": [
      "REPOSITORY                                                                TAG          IMAGE ID       CREATED         SIZE\n",
      "agrigorev/model-2024-hairstyle                                            v3           607850a2138e   3 days ago      782MB\n",
      "nginx                                                                     latest       e0c9858e10ed   5 months ago    188MB\n",
      "postgres                                                                  latest       74cc00b2e28f   7 months ago    432MB\n",
      "ghcr.io/softcannery/camunda-formio-accelerator/camunda-formio-content     latest       6c3334fe08ac   10 months ago   247MB\n",
      "ghcr.io/softcannery/camunda-formio-accelerator/camunda-formio-example     latest       c0b0295bcff7   10 months ago   297MB\n",
      "ghcr.io/softcannery/camunda-formio-accelerator/camunda-formio-react-app   latest       0f4aea3cb17b   10 months ago   54.9MB\n",
      "structurizr/lite                                                          latest       da535b96ed8b   16 months ago   457MB\n",
      "vsc-volume-bootstrap                                                      latest       8efcd3e8bd7c   22 months ago   756MB\n",
      "alpine                                                                    latest       042a816809aa   23 months ago   7.05MB\n",
      "redis                                                                     6-alpine     b6e4ce5f89f4   2 years ago     25.5MB\n",
      "plantuml/plantuml-server                                                  jetty        e6c6321a6cc7   2 years ago     388MB\n",
      "postgres                                                                  9.6-alpine   4cbcabaa33be   2 years ago     53.6MB\n"
     ]
    }
   ],
   "source": [
    "!docker images"
   ]
  },
  {
   "cell_type": "markdown",
   "metadata": {},
   "source": [
    "### Question 5\n",
    "\n",
    "Download the base image `agrigorev/model-2024-hairstyle:v3`. You can do it with [`docker pull`](https://docs.docker.com/engine/reference/commandline/pull/).\n",
    "\n",
    "So what's the size of this base image?\n",
    "\n",
    "* 182 Mb\n",
    "* 382 Mb\n",
    "* 582 Mb\n",
    "* 782 Mb  `<--`"
   ]
  },
  {
   "cell_type": "code",
   "execution_count": 31,
   "metadata": {},
   "outputs": [
    {
     "data": {
      "text/plain": [
       "{'placeholder': 0.4364568293094635}"
      ]
     },
     "execution_count": 31,
     "metadata": {},
     "output_type": "execute_result"
    }
   ],
   "source": [
    "import requests\n",
    "\n",
    "baseurl = 'http://localhost:8080/2015-03-31/functions/function/invocations'\n",
    "\n",
    "data = {\n",
    "    \"url\": \"https://habrastorage.org/webt/yf/_d/ok/yf_dokzqy3vcritme8ggnzqlvwa.jpeg\"\n",
    "}\n",
    "\n",
    "requests.post(baseurl, json=data).json()"
   ]
  },
  {
   "cell_type": "markdown",
   "metadata": {},
   "source": [
    "### Question 6\n",
    "\n",
    "Now let's extend this docker image, install all the required libraries\n",
    "and add the code for lambda.\n",
    "\n",
    "You don't need to include the model in the image. It's already included. \n",
    "The name of the file with the model is `model_2024_hairstyle_v2.tflite` and it's \n",
    "in the current workdir in the image (see the Dockerfile above for the \n",
    "reference). \n",
    "The provided model requires the same preprocessing for images regarding target size and rescaling the value range than used in homework 8.\n",
    "\n",
    "Now run the container locally.\n",
    "\n",
    "Score this image: https://habrastorage.org/webt/yf/_d/ok/yf_dokzqy3vcritme8ggnzqlvwa.jpeg\n",
    "\n",
    "What's the output from the model?\n",
    "\n",
    "* 0.229\n",
    "* 0.429  `<--`\n",
    "* 0.629\n",
    "* 0.829\n"
   ]
  }
 ],
 "metadata": {
  "kernelspec": {
   "display_name": "09-serverless-9sYwZBkw",
   "language": "python",
   "name": "python3"
  },
  "language_info": {
   "codemirror_mode": {
    "name": "ipython",
    "version": 3
   },
   "file_extension": ".py",
   "mimetype": "text/x-python",
   "name": "python",
   "nbconvert_exporter": "python",
   "pygments_lexer": "ipython3",
   "version": "3.11.6"
  }
 },
 "nbformat": 4,
 "nbformat_minor": 2
}
