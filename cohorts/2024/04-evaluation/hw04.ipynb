{
 "cells": [
  {
   "cell_type": "markdown",
   "metadata": {},
   "source": [
    "\n",
    "## Imports"
   ]
  },
  {
   "cell_type": "code",
   "execution_count": 137,
   "metadata": {},
   "outputs": [],
   "source": [
    "# %pip install tqdm\n",
    "from tqdm.auto import tqdm"
   ]
  },
  {
   "cell_type": "code",
   "execution_count": 138,
   "metadata": {},
   "outputs": [],
   "source": [
    "from IPython.display import display\n",
    "\n",
    "import numpy as np\n",
    "import pandas as pd\n",
    "\n",
    "from sklearn.model_selection import train_test_split, KFold\n",
    "from sklearn.metrics import roc_auc_score, mutual_info_score, roc_curve, auc\n",
    "from sklearn.feature_extraction import DictVectorizer\n",
    "from sklearn.linear_model import LogisticRegression, LinearRegression\n",
    "\n",
    "import matplotlib.pyplot as plt\n",
    "# import seaborn as sns\n",
    "%matplotlib inline"
   ]
  },
  {
   "cell_type": "markdown",
   "metadata": {},
   "source": [
    "## Utilities"
   ]
  },
  {
   "cell_type": "code",
   "execution_count": 139,
   "metadata": {},
   "outputs": [],
   "source": [
    "def numerical_features(df: pd.DataFrame):\n",
    "    cols = df.columns[ (df.dtypes != 'object') ]\n",
    "    return list(cols)\n",
    "\n",
    "def categorical_features(df: pd.DataFrame):\n",
    "    cols = df.columns[ (df.dtypes == 'object') ]\n",
    "    return list(cols)"
   ]
  },
  {
   "cell_type": "code",
   "execution_count": 140,
   "metadata": {},
   "outputs": [],
   "source": [
    "def validation_testing_training_full_split(dataframe: pd.DataFrame, seed: int = 42, validation: float = 0.2, testing: float = 0.2):\n",
    "    assert 0 < validation and 0 < testing and 1 > (validation + testing)\n",
    "\n",
    "    validation_of_full = validation / (1 - testing)\n",
    "    if validation_of_full == 0:\n",
    "        validation_of_full = None\n",
    "        \n",
    "    df_full,     df_testing    = train_test_split(dataframe, test_size=testing,            random_state=seed, shuffle=True)\n",
    "    df_training, df_validation = train_test_split(df_full,   test_size=validation_of_full, random_state=seed, shuffle=True)\n",
    "    \n",
    "    df_validation = df_validation.reset_index(drop=True)\n",
    "    df_testing = df_testing.reset_index(drop=True)\n",
    "    df_training = df_training.reset_index(drop=True)\n",
    "    df_full = df_full.reset_index(drop=True)\n",
    "    \n",
    "    return df_validation, df_testing, df_training, df_full"
   ]
  },
  {
   "cell_type": "code",
   "execution_count": 141,
   "metadata": {},
   "outputs": [],
   "source": [
    "def y_split(dataframe: pd.DataFrame, yColumn: str, drop: list[str] = []):\n",
    "    columns = set(dataframe.columns)   \n",
    "    assert columns.issuperset([yColumn]), f'{yColumn} not found in dataframe'\n",
    "    assert columns.issuperset(drop), f'At least one of {drop} not found in dataframe'\n",
    "    \n",
    "    df = dataframe.copy()\n",
    "    y = df[yColumn]\n",
    "    for col in drop + [yColumn]:\n",
    "        del df[col]\n",
    "        \n",
    "    return df, y"
   ]
  },
  {
   "cell_type": "code",
   "execution_count": 142,
   "metadata": {},
   "outputs": [],
   "source": [
    "def regularize(X, r=0.000000001):\n",
    "    return X + np.eye(X.shape[0]) * r"
   ]
  },
  {
   "cell_type": "code",
   "execution_count": 143,
   "metadata": {},
   "outputs": [],
   "source": [
    "# def regularize(X, r: float = 0.00000001):\n",
    "#     return X if r == 1 else X + np.eye(X.shape[0]) * r\n",
    "#     \n",
    "# X = [\n",
    "#     [1, 2, 2],\n",
    "#     [2, 1, 1], # r\n",
    "#     [2, 1, 1], # r\n",
    "#     [0, 9, 9],\n",
    "#     [1, 0, 0],\n",
    "# ] #     c  c\n",
    "# X = np.array(X)\n",
    "# XTX = X.T.dot(X)\n",
    "# print(XTX) # duplicate columns is an issue for linear / logistic regression\n",
    "# np.linalg.inv(XTX)\n",
    "# \n",
    "# regularize(X, r=0.01)"
   ]
  },
  {
   "cell_type": "code",
   "execution_count": 144,
   "metadata": {},
   "outputs": [],
   "source": [
    "def sigmoid(score):\n",
    "    return 1 / (1 + np.exp(-score))\n",
    "\n",
    "# z = np.linspace(-5, 5, 51)\n",
    "# plt.plot(z, sigmoid(z))"
   ]
  },
  {
   "cell_type": "code",
   "execution_count": 145,
   "metadata": {},
   "outputs": [],
   "source": [
    "def display_predictive_features_for_target(df: pd.DataFrame, target: str, categorical = []):\n",
    "    global_target = df[target].mean()\n",
    "    for c in categorical:\n",
    "        df_group = df.groupby(c)[target].agg('mean','count')\n",
    "        df_group['diff'] = df_group.mean - global_target\n",
    "        df_group['risk'] = df_group.mean / global_target\n",
    "        display(df_group)"
   ]
  },
  {
   "cell_type": "code",
   "execution_count": 146,
   "metadata": {},
   "outputs": [],
   "source": [
    "def one_hot_encode(df: pd.DataFrame, drop: list[str] = [], dv: DictVectorizer = DictVectorizer(sparse=False), fit: bool = False):\n",
    "    assert set(df.columns).issuperset(drop), f'At least one of {drop} is not found in the DataFrame `df`'\n",
    "    \n",
    "    df_encode = df.copy()\n",
    "    for feature in drop:\n",
    "        del df_encode[feature]\n",
    "    \n",
    "    data = df_encode.to_dict(orient='records')\n",
    "    X = dv.fit_transform(data) if fit else dv.transform(data)\n",
    "        \n",
    "    assert len(dv.feature_names_) == X.shape[1]\n",
    "    return X, dv"
   ]
  },
  {
   "cell_type": "code",
   "execution_count": 147,
   "metadata": {},
   "outputs": [],
   "source": [
    "def fit(model: LinearRegression | LogisticRegression, df: pd.DataFrame, y: pd.Series, drop: list[str] = []) -> tuple[LinearRegression | LogisticRegression, DictVectorizer]:\n",
    "    assert df.shape[0] == y.shape[0], '`df` and `y` mismatch'\n",
    "    \n",
    "    X, dv = one_hot_encode(df, drop, fit=True)\n",
    "    model.fit(X, y)\n",
    "    \n",
    "    return model, dv"
   ]
  },
  {
   "cell_type": "code",
   "execution_count": 148,
   "metadata": {},
   "outputs": [],
   "source": [
    "def predict(model: LinearRegression | LogisticRegression, dv: DictVectorizer, df: pd.DataFrame, drop: list[str] = []):\n",
    "    X, _ = one_hot_encode(df, drop, dv)\n",
    "    y_pred = model.predict_proba(X)[:, 1]\n",
    "    \n",
    "    return y_pred"
   ]
  },
  {
   "cell_type": "code",
   "execution_count": 149,
   "metadata": {},
   "outputs": [],
   "source": [
    "def random_predictions(y: pd.Series, seed: int = 42):\n",
    "    np.random.seed(seed)\n",
    "    if y.dtype == 'bool':\n",
    "        return np.random.uniform(0, 1, size=len(y))\n",
    "    else:\n",
    "        return np.random.uniform(0, 1, size=len(y))"
   ]
  },
  {
   "cell_type": "code",
   "execution_count": 150,
   "metadata": {},
   "outputs": [],
   "source": [
    "def model_metrics(y: pd.Series, y_pred: pd.Series, threshold: float = 0.5):\n",
    "    assert len(y) == len(y_pred), \"`y` and `y_pred` mismatch\"\n",
    "    assert 0 <= threshold and threshold <= 1, \"invalid threshold\"\n",
    "    \n",
    "    actual_positive = (y == 1)\n",
    "    actual_negative = (y == 0)\n",
    "    predicted_positive = (y_pred >= threshold)\n",
    "    predicted_negative = (y_pred < threshold)\n",
    "    \n",
    "    true_positive = (predicted_positive & actual_positive).sum()\n",
    "    false_positive = (predicted_positive & actual_negative).sum()\n",
    "    false_negative = (predicted_negative & actual_positive).sum()\n",
    "    true_negative = (predicted_negative & actual_negative).sum()\n",
    "    \n",
    "    # Accuracy = ratio of correct predictions -- false and positive \n",
    "    # accuracy = proportional_matrix[0,0] + proportional_matrix[1,1]\n",
    "    accuracy = (true_positive + true_negative) / (true_positive + false_positive + false_negative + true_negative)\n",
    "    \n",
    "    # Precision = ratio of correct to positive predictions; higher is better\n",
    "    precision = true_positive / (true_positive + false_positive)\n",
    "    # Recall = ratio of correctly predicted positive; higher is better\n",
    "    recall = true_positive / (true_positive + false_negative)\n",
    "    f1 = 2 * (precision * recall) / (precision + recall)\n",
    "    \n",
    "    # TPR = ratio of true positives in all positives; higher is better\n",
    "    # true_positive_rate = recall\n",
    "    true_positive_rate  = true_positive / ( false_negative + true_positive)\n",
    "    # FPR = ratio of false positives in all negatives; lower is better\n",
    "    false_positive_rate = false_positive / (true_negative + false_positive)\n",
    "    \n",
    "    matrix = np.array([\n",
    "        #   g(Xi) < t    |   g(Xi) >= t\n",
    "        [ true_negative  , false_positive ], # y == 0\n",
    "        [ false_negative , true_positive  ]  # y == 1\n",
    "    ])\n",
    "    \n",
    "    proportional_matrix = (matrix / matrix.sum()).round(6)\n",
    "    \n",
    "    return {\n",
    "        'accuracy': accuracy,\n",
    "        'precision': precision,\n",
    "        'recall': recall,\n",
    "        'f1': f1,\n",
    "        'tp': true_positive,\n",
    "        'fp': false_positive,\n",
    "        'fn': false_negative,\n",
    "        'tn': true_negative,\n",
    "        'tpr': true_positive_rate,\n",
    "        'fpr': false_positive_rate,\n",
    "        'confusion': matrix,\n",
    "        'proportional_confusion': proportional_matrix\n",
    "    }"
   ]
  },
  {
   "cell_type": "code",
   "execution_count": 151,
   "metadata": {},
   "outputs": [],
   "source": [
    "def model_metrics_for_thresholds(y: pd.Series, y_pred: pd.Series, thresholds: list[float]) -> pd.DataFrame:\n",
    "    results = []\n",
    "    for threshold in thresholds:\n",
    "        metrics = model_metrics(y, y_pred, threshold)\n",
    "        metrics['threshold'] = threshold\n",
    "        results.append(metrics)\n",
    "        \n",
    "    df_metrics = pd.DataFrame(results)\n",
    "    df_metrics.set_index('threshold', inplace=True)\n",
    "    \n",
    "    return df_metrics"
   ]
  },
  {
   "cell_type": "markdown",
   "metadata": {},
   "source": [
    "## Data Preparation"
   ]
  },
  {
   "cell_type": "code",
   "execution_count": 152,
   "metadata": {},
   "outputs": [
    {
     "data": {
      "text/html": [
       "<div>\n",
       "<style scoped>\n",
       "    .dataframe tbody tr th:only-of-type {\n",
       "        vertical-align: middle;\n",
       "    }\n",
       "\n",
       "    .dataframe tbody tr th {\n",
       "        vertical-align: top;\n",
       "    }\n",
       "\n",
       "    .dataframe thead th {\n",
       "        text-align: right;\n",
       "    }\n",
       "</style>\n",
       "<table border=\"1\" class=\"dataframe\">\n",
       "  <thead>\n",
       "    <tr style=\"text-align: right;\">\n",
       "      <th></th>\n",
       "      <th>age</th>\n",
       "      <th>job</th>\n",
       "      <th>marital</th>\n",
       "      <th>education</th>\n",
       "      <th>default</th>\n",
       "      <th>balance</th>\n",
       "      <th>housing</th>\n",
       "      <th>loan</th>\n",
       "      <th>contact</th>\n",
       "      <th>day</th>\n",
       "      <th>month</th>\n",
       "      <th>duration</th>\n",
       "      <th>campaign</th>\n",
       "      <th>pdays</th>\n",
       "      <th>previous</th>\n",
       "      <th>poutcome</th>\n",
       "      <th>y</th>\n",
       "    </tr>\n",
       "  </thead>\n",
       "  <tbody>\n",
       "    <tr>\n",
       "      <th>0</th>\n",
       "      <td>58</td>\n",
       "      <td>management</td>\n",
       "      <td>married</td>\n",
       "      <td>tertiary</td>\n",
       "      <td>no</td>\n",
       "      <td>2143</td>\n",
       "      <td>yes</td>\n",
       "      <td>no</td>\n",
       "      <td>unknown</td>\n",
       "      <td>5</td>\n",
       "      <td>may</td>\n",
       "      <td>261</td>\n",
       "      <td>1</td>\n",
       "      <td>-1</td>\n",
       "      <td>0</td>\n",
       "      <td>unknown</td>\n",
       "      <td>no</td>\n",
       "    </tr>\n",
       "    <tr>\n",
       "      <th>1</th>\n",
       "      <td>44</td>\n",
       "      <td>technician</td>\n",
       "      <td>single</td>\n",
       "      <td>secondary</td>\n",
       "      <td>no</td>\n",
       "      <td>29</td>\n",
       "      <td>yes</td>\n",
       "      <td>no</td>\n",
       "      <td>unknown</td>\n",
       "      <td>5</td>\n",
       "      <td>may</td>\n",
       "      <td>151</td>\n",
       "      <td>1</td>\n",
       "      <td>-1</td>\n",
       "      <td>0</td>\n",
       "      <td>unknown</td>\n",
       "      <td>no</td>\n",
       "    </tr>\n",
       "    <tr>\n",
       "      <th>2</th>\n",
       "      <td>33</td>\n",
       "      <td>entrepreneur</td>\n",
       "      <td>married</td>\n",
       "      <td>secondary</td>\n",
       "      <td>no</td>\n",
       "      <td>2</td>\n",
       "      <td>yes</td>\n",
       "      <td>yes</td>\n",
       "      <td>unknown</td>\n",
       "      <td>5</td>\n",
       "      <td>may</td>\n",
       "      <td>76</td>\n",
       "      <td>1</td>\n",
       "      <td>-1</td>\n",
       "      <td>0</td>\n",
       "      <td>unknown</td>\n",
       "      <td>no</td>\n",
       "    </tr>\n",
       "    <tr>\n",
       "      <th>3</th>\n",
       "      <td>47</td>\n",
       "      <td>blue-collar</td>\n",
       "      <td>married</td>\n",
       "      <td>unknown</td>\n",
       "      <td>no</td>\n",
       "      <td>1506</td>\n",
       "      <td>yes</td>\n",
       "      <td>no</td>\n",
       "      <td>unknown</td>\n",
       "      <td>5</td>\n",
       "      <td>may</td>\n",
       "      <td>92</td>\n",
       "      <td>1</td>\n",
       "      <td>-1</td>\n",
       "      <td>0</td>\n",
       "      <td>unknown</td>\n",
       "      <td>no</td>\n",
       "    </tr>\n",
       "    <tr>\n",
       "      <th>4</th>\n",
       "      <td>33</td>\n",
       "      <td>unknown</td>\n",
       "      <td>single</td>\n",
       "      <td>unknown</td>\n",
       "      <td>no</td>\n",
       "      <td>1</td>\n",
       "      <td>no</td>\n",
       "      <td>no</td>\n",
       "      <td>unknown</td>\n",
       "      <td>5</td>\n",
       "      <td>may</td>\n",
       "      <td>198</td>\n",
       "      <td>1</td>\n",
       "      <td>-1</td>\n",
       "      <td>0</td>\n",
       "      <td>unknown</td>\n",
       "      <td>no</td>\n",
       "    </tr>\n",
       "  </tbody>\n",
       "</table>\n",
       "</div>"
      ],
      "text/plain": [
       "   age           job  marital  education default  balance housing loan  \\\n",
       "0   58    management  married   tertiary      no     2143     yes   no   \n",
       "1   44    technician   single  secondary      no       29     yes   no   \n",
       "2   33  entrepreneur  married  secondary      no        2     yes  yes   \n",
       "3   47   blue-collar  married    unknown      no     1506     yes   no   \n",
       "4   33       unknown   single    unknown      no        1      no   no   \n",
       "\n",
       "   contact  day month  duration  campaign  pdays  previous poutcome   y  \n",
       "0  unknown    5   may       261         1     -1         0  unknown  no  \n",
       "1  unknown    5   may       151         1     -1         0  unknown  no  \n",
       "2  unknown    5   may        76         1     -1         0  unknown  no  \n",
       "3  unknown    5   may        92         1     -1         0  unknown  no  \n",
       "4  unknown    5   may       198         1     -1         0  unknown  no  "
      ]
     },
     "execution_count": 152,
     "metadata": {},
     "output_type": "execute_result"
    }
   ],
   "source": [
    "df = pd.read_csv('../03-classification//bank-full.csv', sep=';')\n",
    "df.columns = df.columns.str.lower().str.replace(' ', '_')\n",
    "df.head()"
   ]
  },
  {
   "cell_type": "markdown",
   "metadata": {},
   "source": [
    "### Drop excluded features (see homework instructions)"
   ]
  },
  {
   "cell_type": "code",
   "execution_count": 153,
   "metadata": {},
   "outputs": [
    {
     "data": {
      "text/html": [
       "<div>\n",
       "<style scoped>\n",
       "    .dataframe tbody tr th:only-of-type {\n",
       "        vertical-align: middle;\n",
       "    }\n",
       "\n",
       "    .dataframe tbody tr th {\n",
       "        vertical-align: top;\n",
       "    }\n",
       "\n",
       "    .dataframe thead th {\n",
       "        text-align: right;\n",
       "    }\n",
       "</style>\n",
       "<table border=\"1\" class=\"dataframe\">\n",
       "  <thead>\n",
       "    <tr style=\"text-align: right;\">\n",
       "      <th></th>\n",
       "      <th>0</th>\n",
       "      <th>1</th>\n",
       "      <th>2</th>\n",
       "      <th>3</th>\n",
       "      <th>4</th>\n",
       "    </tr>\n",
       "  </thead>\n",
       "  <tbody>\n",
       "    <tr>\n",
       "      <th>age</th>\n",
       "      <td>58</td>\n",
       "      <td>44</td>\n",
       "      <td>33</td>\n",
       "      <td>47</td>\n",
       "      <td>33</td>\n",
       "    </tr>\n",
       "    <tr>\n",
       "      <th>job</th>\n",
       "      <td>management</td>\n",
       "      <td>technician</td>\n",
       "      <td>entrepreneur</td>\n",
       "      <td>blue-collar</td>\n",
       "      <td>unknown</td>\n",
       "    </tr>\n",
       "    <tr>\n",
       "      <th>marital</th>\n",
       "      <td>married</td>\n",
       "      <td>single</td>\n",
       "      <td>married</td>\n",
       "      <td>married</td>\n",
       "      <td>single</td>\n",
       "    </tr>\n",
       "    <tr>\n",
       "      <th>education</th>\n",
       "      <td>tertiary</td>\n",
       "      <td>secondary</td>\n",
       "      <td>secondary</td>\n",
       "      <td>unknown</td>\n",
       "      <td>unknown</td>\n",
       "    </tr>\n",
       "    <tr>\n",
       "      <th>balance</th>\n",
       "      <td>2143</td>\n",
       "      <td>29</td>\n",
       "      <td>2</td>\n",
       "      <td>1506</td>\n",
       "      <td>1</td>\n",
       "    </tr>\n",
       "    <tr>\n",
       "      <th>housing</th>\n",
       "      <td>yes</td>\n",
       "      <td>yes</td>\n",
       "      <td>yes</td>\n",
       "      <td>yes</td>\n",
       "      <td>no</td>\n",
       "    </tr>\n",
       "    <tr>\n",
       "      <th>contact</th>\n",
       "      <td>unknown</td>\n",
       "      <td>unknown</td>\n",
       "      <td>unknown</td>\n",
       "      <td>unknown</td>\n",
       "      <td>unknown</td>\n",
       "    </tr>\n",
       "    <tr>\n",
       "      <th>day</th>\n",
       "      <td>5</td>\n",
       "      <td>5</td>\n",
       "      <td>5</td>\n",
       "      <td>5</td>\n",
       "      <td>5</td>\n",
       "    </tr>\n",
       "    <tr>\n",
       "      <th>month</th>\n",
       "      <td>may</td>\n",
       "      <td>may</td>\n",
       "      <td>may</td>\n",
       "      <td>may</td>\n",
       "      <td>may</td>\n",
       "    </tr>\n",
       "    <tr>\n",
       "      <th>duration</th>\n",
       "      <td>261</td>\n",
       "      <td>151</td>\n",
       "      <td>76</td>\n",
       "      <td>92</td>\n",
       "      <td>198</td>\n",
       "    </tr>\n",
       "    <tr>\n",
       "      <th>campaign</th>\n",
       "      <td>1</td>\n",
       "      <td>1</td>\n",
       "      <td>1</td>\n",
       "      <td>1</td>\n",
       "      <td>1</td>\n",
       "    </tr>\n",
       "    <tr>\n",
       "      <th>pdays</th>\n",
       "      <td>-1</td>\n",
       "      <td>-1</td>\n",
       "      <td>-1</td>\n",
       "      <td>-1</td>\n",
       "      <td>-1</td>\n",
       "    </tr>\n",
       "    <tr>\n",
       "      <th>previous</th>\n",
       "      <td>0</td>\n",
       "      <td>0</td>\n",
       "      <td>0</td>\n",
       "      <td>0</td>\n",
       "      <td>0</td>\n",
       "    </tr>\n",
       "    <tr>\n",
       "      <th>poutcome</th>\n",
       "      <td>unknown</td>\n",
       "      <td>unknown</td>\n",
       "      <td>unknown</td>\n",
       "      <td>unknown</td>\n",
       "      <td>unknown</td>\n",
       "    </tr>\n",
       "    <tr>\n",
       "      <th>y</th>\n",
       "      <td>no</td>\n",
       "      <td>no</td>\n",
       "      <td>no</td>\n",
       "      <td>no</td>\n",
       "      <td>no</td>\n",
       "    </tr>\n",
       "  </tbody>\n",
       "</table>\n",
       "</div>"
      ],
      "text/plain": [
       "                    0           1             2            3        4\n",
       "age                58          44            33           47       33\n",
       "job        management  technician  entrepreneur  blue-collar  unknown\n",
       "marital       married      single       married      married   single\n",
       "education    tertiary   secondary     secondary      unknown  unknown\n",
       "balance          2143          29             2         1506        1\n",
       "housing           yes         yes           yes          yes       no\n",
       "contact       unknown     unknown       unknown      unknown  unknown\n",
       "day                 5           5             5            5        5\n",
       "month             may         may           may          may      may\n",
       "duration          261         151            76           92      198\n",
       "campaign            1           1             1            1        1\n",
       "pdays              -1          -1            -1           -1       -1\n",
       "previous            0           0             0            0        0\n",
       "poutcome      unknown     unknown       unknown      unknown  unknown\n",
       "y                  no          no            no           no       no"
      ]
     },
     "execution_count": 153,
     "metadata": {},
     "output_type": "execute_result"
    }
   ],
   "source": [
    "for col in df.columns:\n",
    "    if col not in ['age','job','marital','education','balance','housing','contact','day','month','duration','campaign','pdays','previous','poutcome','y']:\n",
    "        del df[col]\n",
    "        \n",
    "df.head().T"
   ]
  },
  {
   "cell_type": "markdown",
   "metadata": {},
   "source": [
    "### Make `y` binary"
   ]
  },
  {
   "cell_type": "code",
   "execution_count": 154,
   "metadata": {},
   "outputs": [
    {
     "data": {
      "text/html": [
       "<div>\n",
       "<style scoped>\n",
       "    .dataframe tbody tr th:only-of-type {\n",
       "        vertical-align: middle;\n",
       "    }\n",
       "\n",
       "    .dataframe tbody tr th {\n",
       "        vertical-align: top;\n",
       "    }\n",
       "\n",
       "    .dataframe thead th {\n",
       "        text-align: right;\n",
       "    }\n",
       "</style>\n",
       "<table border=\"1\" class=\"dataframe\">\n",
       "  <thead>\n",
       "    <tr style=\"text-align: right;\">\n",
       "      <th></th>\n",
       "      <th>45206</th>\n",
       "      <th>45207</th>\n",
       "      <th>45208</th>\n",
       "      <th>45209</th>\n",
       "      <th>45210</th>\n",
       "    </tr>\n",
       "  </thead>\n",
       "  <tbody>\n",
       "    <tr>\n",
       "      <th>age</th>\n",
       "      <td>51</td>\n",
       "      <td>71</td>\n",
       "      <td>72</td>\n",
       "      <td>57</td>\n",
       "      <td>37</td>\n",
       "    </tr>\n",
       "    <tr>\n",
       "      <th>job</th>\n",
       "      <td>technician</td>\n",
       "      <td>retired</td>\n",
       "      <td>retired</td>\n",
       "      <td>blue-collar</td>\n",
       "      <td>entrepreneur</td>\n",
       "    </tr>\n",
       "    <tr>\n",
       "      <th>marital</th>\n",
       "      <td>married</td>\n",
       "      <td>divorced</td>\n",
       "      <td>married</td>\n",
       "      <td>married</td>\n",
       "      <td>married</td>\n",
       "    </tr>\n",
       "    <tr>\n",
       "      <th>education</th>\n",
       "      <td>tertiary</td>\n",
       "      <td>primary</td>\n",
       "      <td>secondary</td>\n",
       "      <td>secondary</td>\n",
       "      <td>secondary</td>\n",
       "    </tr>\n",
       "    <tr>\n",
       "      <th>balance</th>\n",
       "      <td>825</td>\n",
       "      <td>1729</td>\n",
       "      <td>5715</td>\n",
       "      <td>668</td>\n",
       "      <td>2971</td>\n",
       "    </tr>\n",
       "    <tr>\n",
       "      <th>housing</th>\n",
       "      <td>no</td>\n",
       "      <td>no</td>\n",
       "      <td>no</td>\n",
       "      <td>no</td>\n",
       "      <td>no</td>\n",
       "    </tr>\n",
       "    <tr>\n",
       "      <th>contact</th>\n",
       "      <td>cellular</td>\n",
       "      <td>cellular</td>\n",
       "      <td>cellular</td>\n",
       "      <td>telephone</td>\n",
       "      <td>cellular</td>\n",
       "    </tr>\n",
       "    <tr>\n",
       "      <th>day</th>\n",
       "      <td>17</td>\n",
       "      <td>17</td>\n",
       "      <td>17</td>\n",
       "      <td>17</td>\n",
       "      <td>17</td>\n",
       "    </tr>\n",
       "    <tr>\n",
       "      <th>month</th>\n",
       "      <td>nov</td>\n",
       "      <td>nov</td>\n",
       "      <td>nov</td>\n",
       "      <td>nov</td>\n",
       "      <td>nov</td>\n",
       "    </tr>\n",
       "    <tr>\n",
       "      <th>duration</th>\n",
       "      <td>977</td>\n",
       "      <td>456</td>\n",
       "      <td>1127</td>\n",
       "      <td>508</td>\n",
       "      <td>361</td>\n",
       "    </tr>\n",
       "    <tr>\n",
       "      <th>campaign</th>\n",
       "      <td>3</td>\n",
       "      <td>2</td>\n",
       "      <td>5</td>\n",
       "      <td>4</td>\n",
       "      <td>2</td>\n",
       "    </tr>\n",
       "    <tr>\n",
       "      <th>pdays</th>\n",
       "      <td>-1</td>\n",
       "      <td>-1</td>\n",
       "      <td>184</td>\n",
       "      <td>-1</td>\n",
       "      <td>188</td>\n",
       "    </tr>\n",
       "    <tr>\n",
       "      <th>previous</th>\n",
       "      <td>0</td>\n",
       "      <td>0</td>\n",
       "      <td>3</td>\n",
       "      <td>0</td>\n",
       "      <td>11</td>\n",
       "    </tr>\n",
       "    <tr>\n",
       "      <th>poutcome</th>\n",
       "      <td>unknown</td>\n",
       "      <td>unknown</td>\n",
       "      <td>success</td>\n",
       "      <td>unknown</td>\n",
       "      <td>other</td>\n",
       "    </tr>\n",
       "    <tr>\n",
       "      <th>y</th>\n",
       "      <td>1</td>\n",
       "      <td>1</td>\n",
       "      <td>1</td>\n",
       "      <td>0</td>\n",
       "      <td>0</td>\n",
       "    </tr>\n",
       "  </tbody>\n",
       "</table>\n",
       "</div>"
      ],
      "text/plain": [
       "                45206     45207      45208        45209         45210\n",
       "age                51        71         72           57            37\n",
       "job        technician   retired    retired  blue-collar  entrepreneur\n",
       "marital       married  divorced    married      married       married\n",
       "education    tertiary   primary  secondary    secondary     secondary\n",
       "balance           825      1729       5715          668          2971\n",
       "housing            no        no         no           no            no\n",
       "contact      cellular  cellular   cellular    telephone      cellular\n",
       "day                17        17         17           17            17\n",
       "month             nov       nov        nov          nov           nov\n",
       "duration          977       456       1127          508           361\n",
       "campaign            3         2          5            4             2\n",
       "pdays              -1        -1        184           -1           188\n",
       "previous            0         0          3            0            11\n",
       "poutcome      unknown   unknown    success      unknown         other\n",
       "y                   1         1          1            0             0"
      ]
     },
     "execution_count": 154,
     "metadata": {},
     "output_type": "execute_result"
    }
   ],
   "source": [
    "df['encoded_y'] = df.y.str.lower() == 'yes' \n",
    "df['y'] = df['encoded_y'].astype(int)\n",
    "del df['encoded_y']\n",
    "df.tail().T"
   ]
  },
  {
   "cell_type": "markdown",
   "metadata": {},
   "source": [
    "### Split the data"
   ]
  },
  {
   "cell_type": "markdown",
   "metadata": {},
   "source": [
    "#### Training, Testing, Validation, & Full (Training + Validation)"
   ]
  },
  {
   "cell_type": "code",
   "execution_count": 155,
   "metadata": {},
   "outputs": [
    {
     "data": {
      "text/plain": [
       "(0.2, 0.2, 0.6, 0.8, 1)"
      ]
     },
     "execution_count": 155,
     "metadata": {},
     "output_type": "execute_result"
    }
   ],
   "source": [
    "df_val, df_test, df_train, df_full = validation_testing_training_full_split(df, seed=1)\n",
    "\n",
    "nTotal = len(df)\n",
    "nVal = len(df_val)\n",
    "nTest = len(df_test)\n",
    "nTrain = len(df_train)\n",
    "nFull = len(df_full)\n",
    "\n",
    "round(nVal/nTotal, 1), round(nTest/nTotal, 1), round(nTrain/nTotal, 1), round(nFull/nTotal,1), round(nTotal/nTotal)"
   ]
  },
  {
   "cell_type": "markdown",
   "metadata": {},
   "source": [
    "#### Split out `y` (target feature) from all datasets "
   ]
  },
  {
   "cell_type": "code",
   "execution_count": 156,
   "metadata": {},
   "outputs": [],
   "source": [
    "df_val, y_val = y_split(df_val, 'y')\n",
    "df_test, y_test = y_split(df_test, 'y')\n",
    "df_train, y_train = y_split(df_train, 'y')\n",
    "df_full, y_full = y_split(df_full, 'y')\n",
    "\n",
    "assert df_val.shape[1] == df_test.shape[1] and df_test.shape[1] == df_train.shape[1] and df_train.shape[1] == df_full.shape[1]\n",
    "assert len(y_val) == df_val.shape[0] and len(y_test) == df_test.shape[0] and len(y_train) == df_train.shape[0] and len(y_full) == df_full.shape[0]"
   ]
  },
  {
   "cell_type": "code",
   "execution_count": 157,
   "metadata": {},
   "outputs": [
    {
     "data": {
      "text/html": [
       "<div>\n",
       "<style scoped>\n",
       "    .dataframe tbody tr th:only-of-type {\n",
       "        vertical-align: middle;\n",
       "    }\n",
       "\n",
       "    .dataframe tbody tr th {\n",
       "        vertical-align: top;\n",
       "    }\n",
       "\n",
       "    .dataframe thead th {\n",
       "        text-align: right;\n",
       "    }\n",
       "</style>\n",
       "<table border=\"1\" class=\"dataframe\">\n",
       "  <thead>\n",
       "    <tr style=\"text-align: right;\">\n",
       "      <th></th>\n",
       "      <th>0</th>\n",
       "      <th>1</th>\n",
       "      <th>2</th>\n",
       "      <th>3</th>\n",
       "      <th>4</th>\n",
       "    </tr>\n",
       "  </thead>\n",
       "  <tbody>\n",
       "    <tr>\n",
       "      <th>age</th>\n",
       "      <td>56</td>\n",
       "      <td>33</td>\n",
       "      <td>32</td>\n",
       "      <td>40</td>\n",
       "      <td>54</td>\n",
       "    </tr>\n",
       "    <tr>\n",
       "      <th>job</th>\n",
       "      <td>entrepreneur</td>\n",
       "      <td>technician</td>\n",
       "      <td>technician</td>\n",
       "      <td>admin.</td>\n",
       "      <td>unemployed</td>\n",
       "    </tr>\n",
       "    <tr>\n",
       "      <th>marital</th>\n",
       "      <td>married</td>\n",
       "      <td>married</td>\n",
       "      <td>single</td>\n",
       "      <td>divorced</td>\n",
       "      <td>married</td>\n",
       "    </tr>\n",
       "    <tr>\n",
       "      <th>education</th>\n",
       "      <td>tertiary</td>\n",
       "      <td>secondary</td>\n",
       "      <td>tertiary</td>\n",
       "      <td>secondary</td>\n",
       "      <td>tertiary</td>\n",
       "    </tr>\n",
       "    <tr>\n",
       "      <th>balance</th>\n",
       "      <td>40</td>\n",
       "      <td>4790</td>\n",
       "      <td>392</td>\n",
       "      <td>2129</td>\n",
       "      <td>1180</td>\n",
       "    </tr>\n",
       "    <tr>\n",
       "      <th>housing</th>\n",
       "      <td>no</td>\n",
       "      <td>yes</td>\n",
       "      <td>yes</td>\n",
       "      <td>no</td>\n",
       "      <td>no</td>\n",
       "    </tr>\n",
       "    <tr>\n",
       "      <th>contact</th>\n",
       "      <td>cellular</td>\n",
       "      <td>cellular</td>\n",
       "      <td>cellular</td>\n",
       "      <td>cellular</td>\n",
       "      <td>cellular</td>\n",
       "    </tr>\n",
       "    <tr>\n",
       "      <th>day</th>\n",
       "      <td>11</td>\n",
       "      <td>20</td>\n",
       "      <td>21</td>\n",
       "      <td>30</td>\n",
       "      <td>19</td>\n",
       "    </tr>\n",
       "    <tr>\n",
       "      <th>month</th>\n",
       "      <td>jul</td>\n",
       "      <td>apr</td>\n",
       "      <td>nov</td>\n",
       "      <td>apr</td>\n",
       "      <td>nov</td>\n",
       "    </tr>\n",
       "    <tr>\n",
       "      <th>duration</th>\n",
       "      <td>123</td>\n",
       "      <td>137</td>\n",
       "      <td>148</td>\n",
       "      <td>452</td>\n",
       "      <td>394</td>\n",
       "    </tr>\n",
       "    <tr>\n",
       "      <th>campaign</th>\n",
       "      <td>2</td>\n",
       "      <td>1</td>\n",
       "      <td>2</td>\n",
       "      <td>1</td>\n",
       "      <td>2</td>\n",
       "    </tr>\n",
       "    <tr>\n",
       "      <th>pdays</th>\n",
       "      <td>-1</td>\n",
       "      <td>272</td>\n",
       "      <td>-1</td>\n",
       "      <td>-1</td>\n",
       "      <td>-1</td>\n",
       "    </tr>\n",
       "    <tr>\n",
       "      <th>previous</th>\n",
       "      <td>0</td>\n",
       "      <td>2</td>\n",
       "      <td>0</td>\n",
       "      <td>0</td>\n",
       "      <td>0</td>\n",
       "    </tr>\n",
       "    <tr>\n",
       "      <th>poutcome</th>\n",
       "      <td>unknown</td>\n",
       "      <td>failure</td>\n",
       "      <td>unknown</td>\n",
       "      <td>unknown</td>\n",
       "      <td>unknown</td>\n",
       "    </tr>\n",
       "  </tbody>\n",
       "</table>\n",
       "</div>"
      ],
      "text/plain": [
       "                      0           1           2          3           4\n",
       "age                  56          33          32         40          54\n",
       "job        entrepreneur  technician  technician     admin.  unemployed\n",
       "marital         married     married      single   divorced     married\n",
       "education      tertiary   secondary    tertiary  secondary    tertiary\n",
       "balance              40        4790         392       2129        1180\n",
       "housing              no         yes         yes         no          no\n",
       "contact        cellular    cellular    cellular   cellular    cellular\n",
       "day                  11          20          21         30          19\n",
       "month               jul         apr         nov        apr         nov\n",
       "duration            123         137         148        452         394\n",
       "campaign              2           1           2          1           2\n",
       "pdays                -1         272          -1         -1          -1\n",
       "previous              0           2           0          0           0\n",
       "poutcome        unknown     failure     unknown    unknown     unknown"
      ]
     },
     "execution_count": 157,
     "metadata": {},
     "output_type": "execute_result"
    }
   ],
   "source": [
    "df_train.head().T"
   ]
  },
  {
   "cell_type": "code",
   "execution_count": 158,
   "metadata": {},
   "outputs": [
    {
     "data": {
      "text/plain": [
       "age           int64\n",
       "job          object\n",
       "marital      object\n",
       "education    object\n",
       "balance       int64\n",
       "housing      object\n",
       "contact      object\n",
       "day           int64\n",
       "month        object\n",
       "duration      int64\n",
       "campaign      int64\n",
       "pdays         int64\n",
       "previous      int64\n",
       "poutcome     object\n",
       "dtype: object"
      ]
     },
     "execution_count": 158,
     "metadata": {},
     "output_type": "execute_result"
    }
   ],
   "source": [
    "df_train.dtypes"
   ]
  },
  {
   "cell_type": "markdown",
   "metadata": {},
   "source": [
    "## Answers"
   ]
  },
  {
   "cell_type": "markdown",
   "metadata": {},
   "source": [
    "### Question 1: ROC AUC feature importance"
   ]
  },
  {
   "cell_type": "code",
   "execution_count": 159,
   "metadata": {},
   "outputs": [
    {
     "name": "stdout",
     "output_type": "stream",
     "text": [
      "       age has auc = 0.512\n",
      "   balance has auc = 0.589\n",
      "       day has auc = 0.526\n",
      "  duration has auc = 0.815\n",
      "  campaign has auc = 0.571\n",
      "     pdays has auc = 0.590\n",
      "  previous has auc = 0.599\n"
     ]
    }
   ],
   "source": [
    "for feature in numerical_features(df_train):\n",
    "    auc = roc_auc_score(y_train, df_train[feature])\n",
    "    if auc < 0.5:\n",
    "        auc = roc_auc_score(y_train, -df_train[feature])\n",
    "    print(f'{feature:>10} has {auc = :.3f}')"
   ]
  },
  {
   "cell_type": "markdown",
   "metadata": {},
   "source": [
    "Which numerical variable (among the following 4) has the highest AUC?\n",
    "\n",
    "- `duration`"
   ]
  },
  {
   "cell_type": "markdown",
   "metadata": {},
   "source": [
    "### Question 2: Training the model"
   ]
  },
  {
   "cell_type": "code",
   "execution_count": 160,
   "metadata": {},
   "outputs": [
    {
     "data": {
      "text/plain": [
       "0.9006884713944792"
      ]
     },
     "execution_count": 160,
     "metadata": {},
     "output_type": "execute_result"
    }
   ],
   "source": [
    "model, dv = fit(LogisticRegression(solver='liblinear', C=1.0, max_iter=1000), df_train, y_train)\n",
    "y_val_pred = predict(model, dv, df_val)\n",
    "fpr, tpr, _ = roc_curve(y_val, y_val_pred)\n",
    "roc_auc_score(y_val, y_val_pred)"
   ]
  },
  {
   "cell_type": "code",
   "execution_count": 161,
   "metadata": {},
   "outputs": [
    {
     "data": {
      "text/plain": [
       "<matplotlib.legend.Legend at 0x2ab6434e6d0>"
      ]
     },
     "execution_count": 161,
     "metadata": {},
     "output_type": "execute_result"
    },
    {
     "data": {
      "image/png": "[encoded data removed]",
      "text/plain": [
       "<Figure size 500x500 with 1 Axes>"
      ]
     },
     "metadata": {},
     "output_type": "display_data"
    }
   ],
   "source": [
    "plt.figure(figsize=(5, 5))\n",
    "\n",
    "plt.plot(fpr, tpr, label='model')\n",
    "plt.plot([0, 1], [0, 1], label='random', linestyle='--')\n",
    "\n",
    "plt.xlabel('False Positive Rate (FPR)')\n",
    "plt.ylabel('True Positive Rate (TPR)')\n",
    "plt.legend()"
   ]
  },
  {
   "cell_type": "markdown",
   "metadata": {},
   "source": [
    "What's the AUC of this model on the validation dataset? (round to 3 digits)\n",
    "\n",
    "- 0.89"
   ]
  },
  {
   "cell_type": "markdown",
   "metadata": {},
   "source": [
    "### Question 3: Precision and Recall"
   ]
  },
  {
   "cell_type": "code",
   "execution_count": 162,
   "metadata": {},
   "outputs": [
    {
     "data": {
      "text/plain": [
       "{'accuracy': 0.8974784339747843,\n",
       " 'precision': 0.6546112115732369,\n",
       " 'recall': 0.3296903460837887,\n",
       " 'f1': 0.4385221078134464,\n",
       " 'tp': 362,\n",
       " 'fp': 191,\n",
       " 'fn': 736,\n",
       " 'tn': 7753,\n",
       " 'tpr': 0.3296903460837887,\n",
       " 'fpr': 0.02404330312185297,\n",
       " 'confusion': array([[7753,  191],\n",
       "        [ 736,  362]], dtype=int64),\n",
       " 'proportional_confusion': array([[0.857443, 0.021124],\n",
       "        [0.081398, 0.040035]])}"
      ]
     },
     "execution_count": 162,
     "metadata": {},
     "output_type": "execute_result"
    }
   ],
   "source": [
    "model_metrics(y_val, y_val_pred)"
   ]
  },
  {
   "cell_type": "code",
   "execution_count": 163,
   "metadata": {},
   "outputs": [
    {
     "data": {
      "text/html": [
       "<div>\n",
       "<style scoped>\n",
       "    .dataframe tbody tr th:only-of-type {\n",
       "        vertical-align: middle;\n",
       "    }\n",
       "\n",
       "    .dataframe tbody tr th {\n",
       "        vertical-align: top;\n",
       "    }\n",
       "\n",
       "    .dataframe thead th {\n",
       "        text-align: right;\n",
       "    }\n",
       "</style>\n",
       "<table border=\"1\" class=\"dataframe\">\n",
       "  <thead>\n",
       "    <tr style=\"text-align: right;\">\n",
       "      <th></th>\n",
       "      <th>accuracy</th>\n",
       "      <th>precision</th>\n",
       "      <th>recall</th>\n",
       "      <th>f1</th>\n",
       "      <th>tp</th>\n",
       "      <th>fp</th>\n",
       "      <th>fn</th>\n",
       "      <th>tn</th>\n",
       "      <th>tpr</th>\n",
       "      <th>fpr</th>\n",
       "      <th>confusion</th>\n",
       "      <th>proportional_confusion</th>\n",
       "    </tr>\n",
       "    <tr>\n",
       "      <th>threshold</th>\n",
       "      <th></th>\n",
       "      <th></th>\n",
       "      <th></th>\n",
       "      <th></th>\n",
       "      <th></th>\n",
       "      <th></th>\n",
       "      <th></th>\n",
       "      <th></th>\n",
       "      <th></th>\n",
       "      <th></th>\n",
       "      <th></th>\n",
       "      <th></th>\n",
       "    </tr>\n",
       "  </thead>\n",
       "  <tbody>\n",
       "    <tr>\n",
       "      <th>0.00</th>\n",
       "      <td>0.121433</td>\n",
       "      <td>0.121433</td>\n",
       "      <td>1.000000</td>\n",
       "      <td>0.216568</td>\n",
       "      <td>1098</td>\n",
       "      <td>7944</td>\n",
       "      <td>0</td>\n",
       "      <td>0</td>\n",
       "      <td>1.000000</td>\n",
       "      <td>1.000000</td>\n",
       "      <td>[[0, 7944], [0, 1098]]</td>\n",
       "      <td>[[0.0, 0.878567], [0.0, 0.121433]]</td>\n",
       "    </tr>\n",
       "    <tr>\n",
       "      <th>0.01</th>\n",
       "      <td>0.220305</td>\n",
       "      <td>0.134398</td>\n",
       "      <td>0.996357</td>\n",
       "      <td>0.236848</td>\n",
       "      <td>1094</td>\n",
       "      <td>7046</td>\n",
       "      <td>4</td>\n",
       "      <td>898</td>\n",
       "      <td>0.996357</td>\n",
       "      <td>0.886959</td>\n",
       "      <td>[[898, 7046], [4, 1094]]</td>\n",
       "      <td>[[0.099314, 0.779252], [0.000442, 0.120991]]</td>\n",
       "    </tr>\n",
       "    <tr>\n",
       "      <th>0.02</th>\n",
       "      <td>0.356226</td>\n",
       "      <td>0.158199</td>\n",
       "      <td>0.995446</td>\n",
       "      <td>0.273011</td>\n",
       "      <td>1093</td>\n",
       "      <td>5816</td>\n",
       "      <td>5</td>\n",
       "      <td>2128</td>\n",
       "      <td>0.995446</td>\n",
       "      <td>0.732125</td>\n",
       "      <td>[[2128, 5816], [5, 1093]]</td>\n",
       "      <td>[[0.235346, 0.643221], [0.000553, 0.12088]]</td>\n",
       "    </tr>\n",
       "    <tr>\n",
       "      <th>0.03</th>\n",
       "      <td>0.468370</td>\n",
       "      <td>0.184770</td>\n",
       "      <td>0.989982</td>\n",
       "      <td>0.311417</td>\n",
       "      <td>1087</td>\n",
       "      <td>4796</td>\n",
       "      <td>11</td>\n",
       "      <td>3148</td>\n",
       "      <td>0.989982</td>\n",
       "      <td>0.603726</td>\n",
       "      <td>[[3148, 4796], [11, 1087]]</td>\n",
       "      <td>[[0.348153, 0.530414], [0.001217, 0.120217]]</td>\n",
       "    </tr>\n",
       "    <tr>\n",
       "      <th>0.04</th>\n",
       "      <td>0.570117</td>\n",
       "      <td>0.217427</td>\n",
       "      <td>0.977231</td>\n",
       "      <td>0.355710</td>\n",
       "      <td>1073</td>\n",
       "      <td>3862</td>\n",
       "      <td>25</td>\n",
       "      <td>4082</td>\n",
       "      <td>0.977231</td>\n",
       "      <td>0.486153</td>\n",
       "      <td>[[4082, 3862], [25, 1073]]</td>\n",
       "      <td>[[0.451449, 0.427118], [0.002765, 0.118668]]</td>\n",
       "    </tr>\n",
       "    <tr>\n",
       "      <th>...</th>\n",
       "      <td>...</td>\n",
       "      <td>...</td>\n",
       "      <td>...</td>\n",
       "      <td>...</td>\n",
       "      <td>...</td>\n",
       "      <td>...</td>\n",
       "      <td>...</td>\n",
       "      <td>...</td>\n",
       "      <td>...</td>\n",
       "      <td>...</td>\n",
       "      <td>...</td>\n",
       "      <td>...</td>\n",
       "    </tr>\n",
       "    <tr>\n",
       "      <th>0.95</th>\n",
       "      <td>0.880889</td>\n",
       "      <td>0.684211</td>\n",
       "      <td>0.035519</td>\n",
       "      <td>0.067532</td>\n",
       "      <td>39</td>\n",
       "      <td>18</td>\n",
       "      <td>1059</td>\n",
       "      <td>7926</td>\n",
       "      <td>0.035519</td>\n",
       "      <td>0.002266</td>\n",
       "      <td>[[7926, 18], [1059, 39]]</td>\n",
       "      <td>[[0.876576, 0.001991], [0.11712, 0.004313]]</td>\n",
       "    </tr>\n",
       "    <tr>\n",
       "      <th>0.96</th>\n",
       "      <td>0.880004</td>\n",
       "      <td>0.638298</td>\n",
       "      <td>0.027322</td>\n",
       "      <td>0.052402</td>\n",
       "      <td>30</td>\n",
       "      <td>17</td>\n",
       "      <td>1068</td>\n",
       "      <td>7927</td>\n",
       "      <td>0.027322</td>\n",
       "      <td>0.002140</td>\n",
       "      <td>[[7927, 17], [1068, 30]]</td>\n",
       "      <td>[[0.876687, 0.00188], [0.118115, 0.003318]]</td>\n",
       "    </tr>\n",
       "    <tr>\n",
       "      <th>0.97</th>\n",
       "      <td>0.879783</td>\n",
       "      <td>0.641026</td>\n",
       "      <td>0.022769</td>\n",
       "      <td>0.043975</td>\n",
       "      <td>25</td>\n",
       "      <td>14</td>\n",
       "      <td>1073</td>\n",
       "      <td>7930</td>\n",
       "      <td>0.022769</td>\n",
       "      <td>0.001762</td>\n",
       "      <td>[[7930, 14], [1073, 25]]</td>\n",
       "      <td>[[0.877018, 0.001548], [0.118668, 0.002765]]</td>\n",
       "    </tr>\n",
       "    <tr>\n",
       "      <th>0.98</th>\n",
       "      <td>0.879673</td>\n",
       "      <td>0.666667</td>\n",
       "      <td>0.018215</td>\n",
       "      <td>0.035461</td>\n",
       "      <td>20</td>\n",
       "      <td>10</td>\n",
       "      <td>1078</td>\n",
       "      <td>7934</td>\n",
       "      <td>0.018215</td>\n",
       "      <td>0.001259</td>\n",
       "      <td>[[7934, 10], [1078, 20]]</td>\n",
       "      <td>[[0.877461, 0.001106], [0.119221, 0.002212]]</td>\n",
       "    </tr>\n",
       "    <tr>\n",
       "      <th>0.99</th>\n",
       "      <td>0.879009</td>\n",
       "      <td>0.642857</td>\n",
       "      <td>0.008197</td>\n",
       "      <td>0.016187</td>\n",
       "      <td>9</td>\n",
       "      <td>5</td>\n",
       "      <td>1089</td>\n",
       "      <td>7939</td>\n",
       "      <td>0.008197</td>\n",
       "      <td>0.000629</td>\n",
       "      <td>[[7939, 5], [1089, 9]]</td>\n",
       "      <td>[[0.878014, 0.000553], [0.120438, 0.000995]]</td>\n",
       "    </tr>\n",
       "  </tbody>\n",
       "</table>\n",
       "<p>100 rows × 12 columns</p>\n",
       "</div>"
      ],
      "text/plain": [
       "           accuracy  precision    recall        f1    tp    fp    fn    tn  \\\n",
       "threshold                                                                    \n",
       "0.00       0.121433   0.121433  1.000000  0.216568  1098  7944     0     0   \n",
       "0.01       0.220305   0.134398  0.996357  0.236848  1094  7046     4   898   \n",
       "0.02       0.356226   0.158199  0.995446  0.273011  1093  5816     5  2128   \n",
       "0.03       0.468370   0.184770  0.989982  0.311417  1087  4796    11  3148   \n",
       "0.04       0.570117   0.217427  0.977231  0.355710  1073  3862    25  4082   \n",
       "...             ...        ...       ...       ...   ...   ...   ...   ...   \n",
       "0.95       0.880889   0.684211  0.035519  0.067532    39    18  1059  7926   \n",
       "0.96       0.880004   0.638298  0.027322  0.052402    30    17  1068  7927   \n",
       "0.97       0.879783   0.641026  0.022769  0.043975    25    14  1073  7930   \n",
       "0.98       0.879673   0.666667  0.018215  0.035461    20    10  1078  7934   \n",
       "0.99       0.879009   0.642857  0.008197  0.016187     9     5  1089  7939   \n",
       "\n",
       "                tpr       fpr                   confusion  \\\n",
       "threshold                                                   \n",
       "0.00       1.000000  1.000000      [[0, 7944], [0, 1098]]   \n",
       "0.01       0.996357  0.886959    [[898, 7046], [4, 1094]]   \n",
       "0.02       0.995446  0.732125   [[2128, 5816], [5, 1093]]   \n",
       "0.03       0.989982  0.603726  [[3148, 4796], [11, 1087]]   \n",
       "0.04       0.977231  0.486153  [[4082, 3862], [25, 1073]]   \n",
       "...             ...       ...                         ...   \n",
       "0.95       0.035519  0.002266    [[7926, 18], [1059, 39]]   \n",
       "0.96       0.027322  0.002140    [[7927, 17], [1068, 30]]   \n",
       "0.97       0.022769  0.001762    [[7930, 14], [1073, 25]]   \n",
       "0.98       0.018215  0.001259    [[7934, 10], [1078, 20]]   \n",
       "0.99       0.008197  0.000629      [[7939, 5], [1089, 9]]   \n",
       "\n",
       "                                 proportional_confusion  \n",
       "threshold                                                \n",
       "0.00                 [[0.0, 0.878567], [0.0, 0.121433]]  \n",
       "0.01       [[0.099314, 0.779252], [0.000442, 0.120991]]  \n",
       "0.02        [[0.235346, 0.643221], [0.000553, 0.12088]]  \n",
       "0.03       [[0.348153, 0.530414], [0.001217, 0.120217]]  \n",
       "0.04       [[0.451449, 0.427118], [0.002765, 0.118668]]  \n",
       "...                                                 ...  \n",
       "0.95        [[0.876576, 0.001991], [0.11712, 0.004313]]  \n",
       "0.96        [[0.876687, 0.00188], [0.118115, 0.003318]]  \n",
       "0.97       [[0.877018, 0.001548], [0.118668, 0.002765]]  \n",
       "0.98       [[0.877461, 0.001106], [0.119221, 0.002212]]  \n",
       "0.99       [[0.878014, 0.000553], [0.120438, 0.000995]]  \n",
       "\n",
       "[100 rows x 12 columns]"
      ]
     },
     "execution_count": 163,
     "metadata": {},
     "output_type": "execute_result"
    }
   ],
   "source": [
    "df_metrics = model_metrics_for_thresholds(y_val, y_val_pred, [t / 100 for t in range(0, 100)])\n",
    "df_metrics"
   ]
  },
  {
   "cell_type": "code",
   "execution_count": 164,
   "metadata": {},
   "outputs": [
    {
     "data": {
      "text/plain": [
       "<matplotlib.legend.Legend at 0x2ab696766d0>"
      ]
     },
     "execution_count": 164,
     "metadata": {},
     "output_type": "execute_result"
    },
    {
     "data": {
      "image/png": "[encoded data removed]",
      "text/plain": [
       "<Figure size 500x500 with 1 Axes>"
      ]
     },
     "metadata": {},
     "output_type": "display_data"
    }
   ],
   "source": [
    "plt.figure(figsize=(5, 5))\n",
    "\n",
    "plt.plot(df_metrics.precision, df_metrics.index, label='precision')\n",
    "plt.plot(df_metrics.recall,    df_metrics.index, label='recall')\n",
    "\n",
    "plt.xlabel('threshold')\n",
    "plt.legend()"
   ]
  },
  {
   "cell_type": "markdown",
   "metadata": {},
   "source": [
    "At which threshold precision and recall curves intersect?\n",
    "\n",
    "* 0.465\n"
   ]
  },
  {
   "cell_type": "markdown",
   "metadata": {},
   "source": [
    "### Question 4: F1 score"
   ]
  },
  {
   "cell_type": "code",
   "execution_count": 165,
   "metadata": {},
   "outputs": [
    {
     "data": {
      "text/plain": [
       "<matplotlib.legend.Legend at 0x2ab64c5d350>"
      ]
     },
     "execution_count": 165,
     "metadata": {},
     "output_type": "execute_result"
    },
    {
     "data": {
      "image/png": "[encoded data removed]",
      "text/plain": [
       "<Figure size 500x500 with 1 Axes>"
      ]
     },
     "metadata": {},
     "output_type": "display_data"
    }
   ],
   "source": [
    "plt.figure(figsize=(5, 5))\n",
    "\n",
    "plt.plot(df_metrics.precision, df_metrics.index, label='precision')\n",
    "plt.plot(df_metrics.recall,    df_metrics.index, label='recall')\n",
    "plt.plot(df_metrics.f1,        df_metrics.index, label='f1')\n",
    "\n",
    "plt.xlabel('threshold')\n",
    "plt.legend()"
   ]
  },
  {
   "cell_type": "markdown",
   "metadata": {},
   "source": [
    "At which threshold F1 is maximal?\n",
    "\n",
    "- 0.62"
   ]
  },
  {
   "cell_type": "markdown",
   "metadata": {},
   "source": [
    "### Question 5: 5-Fold CV"
   ]
  },
  {
   "cell_type": "code",
   "execution_count": 166,
   "metadata": {},
   "outputs": [
    {
     "name": "stderr",
     "output_type": "stream",
     "text": [
      "100%|██████████| 5/5 [00:07<00:00,  1.40s/it]\n"
     ]
    },
    {
     "data": {
      "text/plain": [
       "[0.8993733054494373,\n",
       " 0.898944421423942,\n",
       " 0.9112805043937209,\n",
       " 0.9081388806828126,\n",
       " 0.9119843456804715]"
      ]
     },
     "execution_count": 166,
     "metadata": {},
     "output_type": "execute_result"
    }
   ],
   "source": [
    "folds = 5\n",
    "kfold = KFold(n_splits=folds, shuffle=True, random_state=1)\n",
    "scores = []\n",
    "\n",
    "for training_indices, validation_indices in tqdm( kfold.split(df_full), total=folds ):\n",
    "    df_training   = df_full.iloc[training_indices]\n",
    "    y_training    = y_full .iloc[training_indices]\n",
    "    df_validation = df_full.iloc[validation_indices]\n",
    "    y_validation  = y_full . iloc[validation_indices]\n",
    "    \n",
    "    model, dv = fit(LogisticRegression(solver='liblinear', C=1.0, max_iter=1000), df_training, y_training)\n",
    "    y_pred = predict(model, dv, df_validation)\n",
    "    auc = roc_auc_score(y_validation, y_pred)\n",
    "    \n",
    "    scores.append(auc)\n",
    "    \n",
    "scores"
   ]
  },
  {
   "cell_type": "code",
   "execution_count": 167,
   "metadata": {},
   "outputs": [
    {
     "data": {
      "text/plain": [
       "(0.9059442915260769, 0.005691215739889739)"
      ]
     },
     "execution_count": 167,
     "metadata": {},
     "output_type": "execute_result"
    }
   ],
   "source": [
    "np.mean(scores), np.std(scores)"
   ]
  },
  {
   "cell_type": "markdown",
   "metadata": {},
   "source": [
    "How large is standard deviation of the scores across different folds?\n",
    "\n",
    "- 0.006"
   ]
  },
  {
   "cell_type": "markdown",
   "metadata": {},
   "source": [
    "### Question 6"
   ]
  },
  {
   "cell_type": "code",
   "execution_count": 168,
   "metadata": {},
   "outputs": [
    {
     "name": "stderr",
     "output_type": "stream",
     "text": [
      " 33%|███▎      | 1/3 [00:04<00:09,  4.85s/it]"
     ]
    },
    {
     "name": "stdout",
     "output_type": "stream",
     "text": [
      "C=0.000001: mean = 0.701, std = 0.009\n"
     ]
    },
    {
     "name": "stderr",
     "output_type": "stream",
     "text": [
      " 67%|██████▋   | 2/3 [00:10<00:05,  5.15s/it]"
     ]
    },
    {
     "name": "stdout",
     "output_type": "stream",
     "text": [
      "C=0.001000: mean = 0.861, std = 0.007\n"
     ]
    },
    {
     "name": "stderr",
     "output_type": "stream",
     "text": [
      "100%|██████████| 3/3 [00:16<00:00,  5.61s/it]"
     ]
    },
    {
     "name": "stdout",
     "output_type": "stream",
     "text": [
      "C=1.000000: mean = 0.906, std = 0.006\n"
     ]
    },
    {
     "name": "stderr",
     "output_type": "stream",
     "text": [
      "\n"
     ]
    }
   ],
   "source": [
    "folds = 5\n",
    "\n",
    "for C in tqdm( [0.000001, 0.001, 1] ):\n",
    "    scores = []\n",
    "    kfold = KFold(n_splits=folds, shuffle=True, random_state=1)\n",
    "\n",
    "    for training_indices, validation_indices in kfold.split(df_full):\n",
    "        df_training   = df_full.iloc[training_indices]\n",
    "        y_training    = y_full .iloc[training_indices]\n",
    "        df_validation = df_full.iloc[validation_indices]\n",
    "        y_validation  = y_full . iloc[validation_indices]\n",
    "        \n",
    "        model, dv = fit(LogisticRegression(solver='liblinear', C=C, max_iter=1000), df_training, y_training)\n",
    "        y_pred = predict(model, dv, df_validation)\n",
    "        auc = roc_auc_score(y_validation, y_pred)\n",
    "        \n",
    "        scores.append(auc)\n",
    "    \n",
    "    print(f'{C=:>.6f}: mean = {np.mean(scores):.3f}, std = {np.std(scores):.3f}')"
   ]
  },
  {
   "cell_type": "markdown",
   "metadata": {},
   "source": [
    "Which `C` leads to the best mean score?\n",
    "\n",
    "- 1"
   ]
  }
 ],
 "metadata": {
  "kernelspec": {
   "display_name": "Python 3",
   "language": "python",
   "name": "python3"
  },
  "language_info": {
   "codemirror_mode": {
    "name": "ipython",
    "version": 3
   },
   "file_extension": ".py",
   "mimetype": "text/x-python",
   "name": "python",
   "nbconvert_exporter": "python",
   "pygments_lexer": "ipython3",
   "version": "3.11.6"
  }
 },
 "nbformat": 4,
 "nbformat_minor": 2
}
